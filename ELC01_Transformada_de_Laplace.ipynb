{
 "cells": [
  {
   "cell_type": "markdown",
   "id": "98cc9f00-1bf0-4748-92cd-98a2f93f86bf",
   "metadata": {},
   "source": [
    "Introducción a la Teoría de Control\n",
    "=====\n",
    "Con Matlab\n",
    "========\n",
    "\n",
    "##### Version 0.1\n",
    "\n",
    "`Contenido Original creado por Ezequiel Leonardo Castaño`\n",
    "\n",
    "<font color='Firebrick'>Este contenido está en <b>borrador</b> y puede estar incompleto y/o sufrir modificaciones</font>\n",
    "___\n",
    "\n",
    "Enlaces Útiles:\n",
    "\n",
    "- Los demás capítulos pueden encontrarse en el [homepage](https://elc.github.io/control). \n",
    "- El repositorio completo está disponible en Github como [Control Theory With Matlab](https://github.com/ELC/control-theory-with-matlab)\n",
    "- Ante dudas y sugerencias, no dudes en utilizar los [Github Issues](https://github.com/ELC/control-theory-with-matlab/issues)\n",
    "\n",
    "En los siguientes capítulos los tres enlaces se mostrarán con estos botones\n",
    "\n",
    "<nav style=\"display: flex;justify-content: space-evenly;\">\n",
    "    <a href=\"https://elc.github.io/control\"><img src=\"https://img.shields.io/badge/Book-Chapters-blue?style=for-the-badge&amp;logo=GitBook&amp;logoColor=white\"></a>\n",
    "    <a href=\"https://github.com/ELC/control-theory-with-matlab\"><img src=\"https://img.shields.io/badge/Github-Repo-green?style=for-the-badge&amp;logo=github&amp;logoColor=white\"></a>\n",
    "    <a href=\"https://github.com/ELC/control-theory-with-matlab/issues\"><img src=\"https://img.shields.io/badge/Github%20Issues-Questions-orange?style=for-the-badge\"></a>\n",
    "</nav>"
   ]
  },
  {
   "cell_type": "code",
   "execution_count": null,
   "id": "c6f2ef89-a296-4240-b92b-5256122edaac",
   "metadata": {},
   "outputs": [],
   "source": [
    "%plot inline --format=png -w 1600"
   ]
  },
  {
   "cell_type": "code",
   "execution_count": 2,
   "id": "faa40500-3f30-4a95-bf37-16ae520d42c3",
   "metadata": {},
   "outputs": [
    {
     "name": "stdout",
     "output_type": "stream",
     "text": [
      "\n"
     ]
    }
   ],
   "source": [
    "format compact;"
   ]
  },
  {
   "cell_type": "markdown",
   "id": "f629648d-9153-4014-accb-984a0331de7b",
   "metadata": {},
   "source": [
    "## Transformada de Laplace\n",
    "\n",
    "### Definición\n",
    "\n",
    "La transformada de Laplace es una **generalización** de la transformada de Fourier\n",
    "\n",
    "La transformada de Fourier convierte una función del **dominio del tiempo** al **dominio de la frecuencia**\n",
    "\n",
    "$$X(\\omega )=\\int_{-\\infty }^{\\infty } x(t)e^{-j\\omega t} dt$$\n",
    "\n",
    "El término $e^{-j\\omega t}$ es la forma exponencial de una función senoidal, donde $j$ representa a la unidad imaginaria. Sin embargo, esta transformación resulta bastante restrictiva ya que no hay componentes exponenciales puras.\n",
    "\n",
    "Para añadir un componente exponencial, se agrega un factor exponencial a la función $x(t)$quedando:\n",
    "\n",
    "$$X(\\sigma ,\\omega )=\\int_{-\\infty }^{\\infty } [x(t)\\cdot e^{-\\sigma t} ]e^{-j\\omega t} dt$$"
   ]
  },
  {
   "cell_type": "markdown",
   "id": "2bcacdf1-5437-48a4-bed9-875efc2c31d3",
   "metadata": {},
   "source": [
    "### Desarrollo\n",
    "\n",
    "Al trabajar algebraicamente se tiene\n",
    "\n",
    "$$X(\\sigma ,\\omega )=\\int_{-\\infty }^{\\infty } x(t)\\cdot [e^{-\\sigma t} \\cdot e^{-j\\omega t} ]dt$$\n",
    "\n",
    "$$X(\\sigma ,\\omega )=\\int_{-\\infty }^{\\infty } x(t)\\cdot e^{-\\sigma t-j\\omega t} dt$$\n",
    "\n",
    "$$X(\\sigma ,\\omega )=\\int_{-\\infty }^{\\infty } x(t)\\cdot e^{-(\\sigma -j\\omega )t} dt$$\n",
    "\n",
    "Y luego se reemplaza a la expresión $\\sigma -j\\omega$ por una nueva variable compleja llamada $s$, donde $\\sigma$ es la parte real y $\\omega$ la parte imaginaria, este nuevo dominio diferente del tiempo se conoce como **plano** $s$.\n",
    "\n",
    "$$X(s)=\\int_{-\\infty }^{\\infty } x(t)e^{-st} dt$$\n",
    "\n",
    "Esta forma de expresar a la función $x(t)$ como $X(s)$es lo que se conoce como transformada de Laplace, símbolicamente se representa\n",
    "\n",
    "$$\\mathcal{L}\\lbrace x(t)\\rbrace =X(s)$$\n",
    "\n",
    "Análogamente para la transformación inversa\n",
    "\n",
    "$${\\mathcal{L}}^{-1} \\lbrace X(s)\\rbrace =x(t)$$ "
   ]
  },
  {
   "cell_type": "markdown",
   "id": "89b7bc66-95ce-4a7c-b5b1-289d833c838a",
   "metadata": {},
   "source": [
    "## Propiedades\n",
    "\n",
    "Algunas de las propiedades de la transformada de Laplace son\n",
    "\n",
    "### Linearidad\n",
    "\n",
    "$$\\mathcal{L}\\lbrace a\\cdot f(t)+b\\cdot g(t)\\rbrace =a\\cdot F(s)+b\\cdot G(s)$$"
   ]
  },
  {
   "cell_type": "markdown",
   "id": "f054e875-b7fe-4863-9e0a-de24436890c6",
   "metadata": {},
   "source": [
    "### Retraso o Delay\n",
    "\n",
    "Dada una función escalón definida por $\\gamma (t-a)=\\left\\lbrace \\begin{array}{lcc}\n",
    "0 & si & x\\le a\\\\\n",
    "1 & si & x\\ge a\n",
    "\\end{array}\\right.$\n",
    "\n",
    "$$\\mathcal{L}\\lbrace f(t-a)\\cdot \\gamma (t-a)\\rbrace =e^{-as} \\cdot F(s)$$"
   ]
  },
  {
   "cell_type": "markdown",
   "id": "a43272de-2c34-4143-bed6-818a8f160991",
   "metadata": {},
   "source": [
    "### Derivada\n",
    "\n",
    "$$\\mathcal{L}\\lbrace f^{^{\\prime } } (t)\\rbrace =s\\cdot F(s)-f(0)$$\n",
    "\n",
    "$$\\mathcal{L}\\lbrace f^{^{\\prime \\prime } } (t)\\rbrace =s^2 \\cdot F(s)-s\\cdot f(0)-f^{^{\\prime } } (0)$$"
   ]
  },
  {
   "cell_type": "markdown",
   "id": "4eb9ef06-b29f-4166-bd6c-4cfdbd85a940",
   "metadata": {},
   "source": [
    "### Integral\n",
    "\n",
    "$$\\mathcal{L}\\lbrace \\int_0^t f(t)dt\\rbrace =\\frac{1}{s}\\mathcal{L}\\lbrace f(t)\\rbrace$$"
   ]
  },
  {
   "cell_type": "markdown",
   "id": "b2c505fa-e965-41a5-b45c-3779c8a29f9f",
   "metadata": {},
   "source": [
    "### Teorema del valor inicial\n",
    "\n",
    "$$\\lim_{s\\to \\infty } (s\\cdot F(s))=\\lim_{t\\to 0} f(t)$$"
   ]
  },
  {
   "cell_type": "markdown",
   "id": "bcfa128d-477d-4350-847b-ce5f61fd1968",
   "metadata": {},
   "source": [
    "### Teorema del valor final}\n",
    "\n",
    "$$\\lim_{s\\to 0} (s\\cdot F(s))=\\lim_{t\\to \\infty } f(t)$$"
   ]
  },
  {
   "cell_type": "markdown",
   "id": "91140ef2-3930-48a0-9f11-833cf53bf72a",
   "metadata": {},
   "source": [
    "### Convolución\n",
    "\n",
    "$$\\mathcal{L}\\lbrace f(t)*g(t)\\rbrace =F(s)\\cdot G(s)$$\n",
    "\n",
    "La operación convolución puede verse gráficamente en esta animación ([Fuente](https://en.wikipedia.org/wiki/Convolution))\n",
    "\n",
    "<center>\n",
    "<img src=\"images/convolution.png\">\n",
    "</center>"
   ]
  },
  {
   "cell_type": "markdown",
   "id": "c78ace63-7702-4cc7-85e3-bfbcf820e241",
   "metadata": {},
   "source": [
    "## Transformaciones comunes\n",
    "\n",
    "Normalemente en lugar de hacer la integral, que puede llevar mucho tiempo, se recurre a tablas que tienen las transformadas pre-calculadas. Algunas de las transformadas más comunes son:\n",
    "\n",
    "### Función impulso \n",
    "\n",
    "$$\\mathcal{L}\\lbrace \\delta (c)\\rbrace =c$$ \n",
    "\n",
    "### Función escalón\n",
    "\n",
    "$$\\mathcal{L}\\lbrace c\\rbrace =\\frac{c}{s}$$ \n",
    "\n",
    "### Función rampa\n",
    "\n",
    "$$\\mathcal{L}\\lbrace c\\cdot t\\rbrace =\\frac{c}{s^2 }$$ \n",
    "\n",
    "### Función exponencial\n",
    "\n",
    "$$\\mathcal{L}\\lbrace e^{a\\cdot t} \\rbrace =\\frac{1}{s-a}$$ \n",
    "\n",
    "\n",
    "## Laplace en Matlab\n",
    "\n",
    "Definimos los símbolos a utilizar"
   ]
  },
  {
   "cell_type": "code",
   "execution_count": 3,
   "id": "b33fdfe6-7688-4268-be0a-113cc3532262",
   "metadata": {},
   "outputs": [
    {
     "name": "stdout",
     "output_type": "stream",
     "text": [
      "\n"
     ]
    }
   ],
   "source": [
    "a = sym(\"a\");\n",
    "t = sym(\"t\", 'positive');\n",
    "s = sym(\"s\");"
   ]
  },
  {
   "cell_type": "markdown",
   "id": "1e563d3a-9ddf-459a-a5df-8fe665ce4600",
   "metadata": {},
   "source": [
    "A continuación se muestran algunos ejemplos con sus transformadas y antitransformadas\n",
    "\n",
    "### Escalón"
   ]
  },
  {
   "cell_type": "code",
   "execution_count": 4,
   "id": "6d7ccd26-56db-4972-b23c-05f61e3645b9",
   "metadata": {},
   "outputs": [
    {
     "name": "stdout",
     "output_type": "stream",
     "text": [
      "transformada =\n",
      "a/s\n",
      "\n"
     ]
    }
   ],
   "source": [
    "funcion = a;\n",
    "transformada = laplace(funcion, t, s)"
   ]
  },
  {
   "cell_type": "code",
   "execution_count": 5,
   "id": "0907f85f-28b2-47b3-829d-9207c4008deb",
   "metadata": {},
   "outputs": [
    {
     "name": "stdout",
     "output_type": "stream",
     "text": [
      "transformada =\n",
      "a/s\n",
      "\n"
     ]
    }
   ],
   "source": [
    "funcion = a;\n",
    "transformada = laplace(funcion, t, s)"
   ]
  },
  {
   "cell_type": "code",
   "execution_count": 6,
   "id": "e27c9dbd-9541-45ed-a054-18f96e721427",
   "metadata": {},
   "outputs": [
    {
     "name": "stdout",
     "output_type": "stream",
     "text": [
      "transformada_inversa =\n",
      "a\n",
      "\n"
     ]
    }
   ],
   "source": [
    "transformada_inversa = ilaplace(transformada)"
   ]
  },
  {
   "cell_type": "markdown",
   "id": "83590635-c5ce-41f9-a3bb-2560197c14b4",
   "metadata": {},
   "source": [
    "#### Ejemplo Gráfico"
   ]
  },
  {
   "cell_type": "code",
   "execution_count": 7,
   "id": "7d2d829a-6f48-4d66-a101-aea4d8cd7a75",
   "metadata": {},
   "outputs": [
    {
     "name": "stdout",
     "output_type": "stream",
     "text": [
      "\n"
     ]
    },
    {
     "data": {
      "image/png": "[encoded data removed]",
      "text/plain": [
       "<IPython.core.display.Image object>"
      ]
     },
     "metadata": {},
     "output_type": "display_data"
    }
   ],
   "source": [
    "syms f(t) g(t) h(t);\n",
    "f(t) = 1;\n",
    "g(t) = 0.5;\n",
    "h(t) = 2;\n",
    "\n",
    "figure;\n",
    "hold on;\n",
    "fplot([f, g, h], [0 10])\n",
    "ylim([0 2.5])\n",
    "grid on\n",
    "legend(\"a=1\", \"a=0.5\", \"a=2\")"
   ]
  },
  {
   "cell_type": "markdown",
   "id": "d80b0dc0-97b1-4332-9303-3bd2e26ad2ad",
   "metadata": {},
   "source": [
    "### Rampa"
   ]
  },
  {
   "cell_type": "code",
   "execution_count": 8,
   "id": "c68c7f8f-2d19-4b81-9332-a20d13145e08",
   "metadata": {},
   "outputs": [
    {
     "name": "stdout",
     "output_type": "stream",
     "text": [
      "transformada =\n",
      "a/s^2\n",
      "\n"
     ]
    }
   ],
   "source": [
    "funcion = a * t;\n",
    "transformada = laplace(funcion, t, s)"
   ]
  },
  {
   "cell_type": "code",
   "execution_count": 9,
   "id": "152315ed-23b1-4f07-b157-8dc46c519406",
   "metadata": {},
   "outputs": [
    {
     "name": "stdout",
     "output_type": "stream",
     "text": [
      "transformada_inversa =\n",
      "a*t\n",
      "\n"
     ]
    }
   ],
   "source": [
    "transformada_inversa = ilaplace(transformada)"
   ]
  },
  {
   "cell_type": "markdown",
   "id": "c46755d8-cea5-4228-a772-fed0875b5a39",
   "metadata": {},
   "source": [
    "#### Ejemplo Gráfico"
   ]
  },
  {
   "cell_type": "code",
   "execution_count": 10,
   "id": "8c13e5db-a3b9-4e7e-a0f8-0be648e0e333",
   "metadata": {},
   "outputs": [
    {
     "name": "stdout",
     "output_type": "stream",
     "text": [
      "\n"
     ]
    },
    {
     "data": {
      "image/png": "[encoded data removed]",
      "text/plain": [
       "<IPython.core.display.Image object>"
      ]
     },
     "metadata": {},
     "output_type": "display_data"
    }
   ],
   "source": [
    "syms f(t) g(t) h(t);\n",
    "f(t) = 1 * t;\n",
    "g(t) = 0.5 * t;\n",
    "h(t) = 2 * t;\n",
    "\n",
    "figure;\n",
    "hold on;\n",
    "fplot([f, g, h], [0 10])\n",
    "ylim([0 10])\n",
    "grid on\n",
    "legend(\"a=1\", \"a=0.5\", \"a=2\")"
   ]
  },
  {
   "cell_type": "markdown",
   "id": "d9295ced-2855-4058-9390-371b388602ea",
   "metadata": {},
   "source": [
    "### Exponencial"
   ]
  },
  {
   "cell_type": "code",
   "execution_count": 11,
   "id": "1fdf18f9-8722-4634-9e7b-b0fb62ada31b",
   "metadata": {},
   "outputs": [
    {
     "name": "stdout",
     "output_type": "stream",
     "text": [
      "transformada =\n",
      "1/(a + s)\n",
      "\n"
     ]
    }
   ],
   "source": [
    "funcion = exp(-a*t);\n",
    "transformada = laplace(funcion, t, s)"
   ]
  },
  {
   "cell_type": "code",
   "execution_count": 12,
   "id": "cba2bc38-5cd3-4d1d-874a-6da21263eaf5",
   "metadata": {},
   "outputs": [
    {
     "name": "stdout",
     "output_type": "stream",
     "text": [
      "transformada_inversa =\n",
      "exp(-a*t)\n",
      "\n"
     ]
    }
   ],
   "source": [
    "transformada_inversa = ilaplace(transformada)"
   ]
  },
  {
   "cell_type": "markdown",
   "id": "e782012d-6634-4960-84f4-ed2aed81cb9b",
   "metadata": {},
   "source": [
    "#### Ejemplo Gráfico"
   ]
  },
  {
   "cell_type": "code",
   "execution_count": 13,
   "id": "37bb8eab-e5ef-4f8c-a532-3dc4ebc10e74",
   "metadata": {},
   "outputs": [
    {
     "name": "stdout",
     "output_type": "stream",
     "text": [
      "\n"
     ]
    },
    {
     "data": {
      "image/png": "[encoded data removed]",
      "text/plain": [
       "<IPython.core.display.Image object>"
      ]
     },
     "metadata": {},
     "output_type": "display_data"
    }
   ],
   "source": [
    "syms f(t) g(t) h(t);\n",
    "f(t) = exp(-1 * t);\n",
    "g(t) = exp(-0.5 * t);\n",
    "h(t) = exp(-2 * t);\n",
    "\n",
    "figure;\n",
    "hold on;\n",
    "fplot([f, g, h], [0 10])\n",
    "ylim([0 1.25])\n",
    "grid on\n",
    "legend(\"a=1\", \"a=0.5\", \"a=2\")"
   ]
  },
  {
   "cell_type": "markdown",
   "id": "0f1a02ee-f237-45b3-9856-60cac6be35e5",
   "metadata": {},
   "source": [
    "### Derivada"
   ]
  },
  {
   "cell_type": "code",
   "execution_count": 14,
   "id": "8b36d995-6a9e-41f2-923e-8c34198f1803",
   "metadata": {},
   "outputs": [
    {
     "name": "stdout",
     "output_type": "stream",
     "text": [
      "transformada =\n",
      "s*laplace(f(t), t, s) - 1*f(0)\n",
      "\n"
     ]
    }
   ],
   "source": [
    "syms f(t);\n",
    "derivada = diff(f, t);\n",
    "transformada = laplace(derivada, t, s)"
   ]
  },
  {
   "cell_type": "code",
   "execution_count": 15,
   "id": "6b34eff7-1b52-4280-b6e9-8a116e742677",
   "metadata": {},
   "outputs": [
    {
     "name": "stdout",
     "output_type": "stream",
     "text": [
      "transformada_inversa =\n",
      "diff(f(t), t)\n",
      "\n"
     ]
    }
   ],
   "source": [
    "transformada_inversa = ilaplace(transformada)"
   ]
  },
  {
   "cell_type": "code",
   "execution_count": 16,
   "id": "230d6604-dc87-41e6-9b51-58824e450086",
   "metadata": {},
   "outputs": [
    {
     "name": "stdout",
     "output_type": "stream",
     "text": [
      "transformada =\n",
      "laplace(int(f(t), t, 0, t), t, s)\n",
      "\n"
     ]
    }
   ],
   "source": [
    "integral = int(f, t, 0, t);\n",
    "transformada = laplace(integral, t, s)"
   ]
  },
  {
   "cell_type": "code",
   "execution_count": 17,
   "id": "4aa46d7b-5167-4605-85fd-b8f2bd10180a",
   "metadata": {},
   "outputs": [
    {
     "name": "stdout",
     "output_type": "stream",
     "text": [
      "transformada_inversa =\n",
      "int(f(t), t, 0, t)\n",
      "\n"
     ]
    }
   ],
   "source": [
    "transformada_inversa = ilaplace(transformada)"
   ]
  },
  {
   "cell_type": "markdown",
   "id": "6e7e2d42-4c76-4bc7-8a60-a8edaa50c412",
   "metadata": {},
   "source": [
    "## Ejercicios"
   ]
  },
  {
   "cell_type": "code",
   "execution_count": 18,
   "id": "43b17bb1-1a6f-446b-b6f6-859ff5f9f3e4",
   "metadata": {},
   "outputs": [
    {
     "name": "stdout",
     "output_type": "stream",
     "text": [
      "\n"
     ]
    }
   ],
   "source": [
    "s = sym(\"s\");"
   ]
  },
  {
   "cell_type": "markdown",
   "id": "e92c9b30-d7a2-4446-b4d4-39f40fe8922c",
   "metadata": {},
   "source": [
    "### Estructura General de un ejercicio\n",
    "\n",
    "Se define una función cuya antitransformada se desea calcular"
   ]
  },
  {
   "cell_type": "code",
   "execution_count": 19,
   "id": "07c572b8-ff97-4c1e-9191-fc6258914e4e",
   "metadata": {},
   "outputs": [
    {
     "name": "stdout",
     "output_type": "stream",
     "text": [
      "funcion_transformada =\n",
      "12/((s + 1)*(s - 3))\n",
      "\n"
     ]
    }
   ],
   "source": [
    "funcion_transformada = 12 / ((s-3)*(s+1))"
   ]
  },
  {
   "cell_type": "markdown",
   "id": "834267c1-81af-444c-b84c-ac6b3e82b697",
   "metadata": {},
   "source": [
    "Se utiliza la función partfrac para separar en fracciones parciales"
   ]
  },
  {
   "cell_type": "code",
   "execution_count": 20,
   "id": "1d7f7586-44b5-4b57-9d32-0b1e7ff49ddd",
   "metadata": {},
   "outputs": [
    {
     "name": "stdout",
     "output_type": "stream",
     "text": [
      "fracciones_parciales =\n",
      "3/(s - 3) - 3/(s + 1)\n",
      "\n"
     ]
    }
   ],
   "source": [
    "fracciones_parciales = partfrac(funcion_transformada)"
   ]
  },
  {
   "cell_type": "markdown",
   "id": "3ed7b6a0-095e-4acb-b7fb-bb8646cb5445",
   "metadata": {},
   "source": [
    "Se calcula la antitransformada a las fracciones parciales"
   ]
  },
  {
   "cell_type": "code",
   "execution_count": 21,
   "id": "226a86f4-8c93-4301-b2c4-3c54c4358b19",
   "metadata": {},
   "outputs": [
    {
     "name": "stdout",
     "output_type": "stream",
     "text": [
      "ans =\n",
      "3*exp(3*t) - 3*exp(-t)\n",
      "\n"
     ]
    }
   ],
   "source": [
    "ilaplace(fracciones_parciales)"
   ]
  },
  {
   "cell_type": "markdown",
   "id": "6dd8f44f-c6d0-4022-bfcf-73c34ce24044",
   "metadata": {},
   "source": [
    "Se verifica haciendo la antitransformada de la función original"
   ]
  },
  {
   "cell_type": "code",
   "execution_count": 22,
   "id": "107de695-0539-42b3-bbde-62d04444b2d0",
   "metadata": {},
   "outputs": [
    {
     "name": "stdout",
     "output_type": "stream",
     "text": [
      "ans =\n",
      "3*exp(3*t) - 3*exp(-t)\n",
      "\n"
     ]
    }
   ],
   "source": [
    "ilaplace(funcion_transformada)"
   ]
  },
  {
   "cell_type": "markdown",
   "id": "0128e0c8-0dd8-467c-bc8b-79d9d18d5d5f",
   "metadata": {},
   "source": [
    "### Ejercicios Adicionales\n",
    "\n",
    "Ejercicio 1"
   ]
  },
  {
   "cell_type": "code",
   "execution_count": 23,
   "id": "e2b9e71e-9b57-474d-88f2-173db9de1dc3",
   "metadata": {},
   "outputs": [
    {
     "name": "stdout",
     "output_type": "stream",
     "text": [
      "funcion_transformada =\n",
      "4/(s^2 - 9)\n",
      "\n"
     ]
    }
   ],
   "source": [
    "funcion_transformada = (4) / (s^2 - 9)"
   ]
  },
  {
   "cell_type": "code",
   "execution_count": 24,
   "id": "9300524a-84a6-42f0-915e-1070e8ba0618",
   "metadata": {},
   "outputs": [
    {
     "name": "stdout",
     "output_type": "stream",
     "text": [
      "fracciones_parciales =\n",
      "0.6667/(s - 3) - 0.6667/(s + 3)\n",
      "\n"
     ]
    }
   ],
   "source": [
    "fracciones_parciales = partfrac(funcion_transformada)"
   ]
  },
  {
   "cell_type": "code",
   "execution_count": 25,
   "id": "b0423e9f-38e1-437b-a789-a1d453638472",
   "metadata": {},
   "outputs": [
    {
     "name": "stdout",
     "output_type": "stream",
     "text": [
      "ans =\n",
      "0.6667*exp(3*t) - 0.6667*exp(-3*t)\n",
      "\n"
     ]
    }
   ],
   "source": [
    "ilaplace(fracciones_parciales)"
   ]
  },
  {
   "cell_type": "markdown",
   "id": "1008bcd0-4d15-45f3-a69d-162567862a63",
   "metadata": {},
   "source": [
    "Ejercicio 2"
   ]
  },
  {
   "cell_type": "code",
   "execution_count": 26,
   "id": "21a88de3-68ec-4001-ab32-0f0ede0f6049",
   "metadata": {},
   "outputs": [
    {
     "name": "stdout",
     "output_type": "stream",
     "text": [
      "funcion_transformada =\n",
      "(s^2 + 2*s + 3)/(s + 1)^2\n",
      "\n"
     ]
    }
   ],
   "source": [
    "funcion_transformada = (s^2+2*s+3) / (s+1)^2"
   ]
  },
  {
   "cell_type": "code",
   "execution_count": 27,
   "id": "692b8074-1f89-4e9b-af6d-cb450614cf9b",
   "metadata": {},
   "outputs": [
    {
     "name": "stdout",
     "output_type": "stream",
     "text": [
      "fracciones_parciales =\n",
      "2/(s + 1)^2 + 1\n",
      "\n"
     ]
    }
   ],
   "source": [
    "fracciones_parciales = partfrac(funcion_transformada)"
   ]
  },
  {
   "cell_type": "code",
   "execution_count": 28,
   "id": "3f2fa2e7-ed96-49da-b62b-930bb0cf1a0c",
   "metadata": {},
   "outputs": [
    {
     "name": "stdout",
     "output_type": "stream",
     "text": [
      "ans =\n",
      "2*t*exp(-t)\n",
      "\n"
     ]
    }
   ],
   "source": [
    "ilaplace(fracciones_parciales)"
   ]
  },
  {
   "cell_type": "markdown",
   "id": "09fd381b-15c9-4cf8-8db7-e7dada184a75",
   "metadata": {},
   "source": [
    "Ejercicio 3"
   ]
  },
  {
   "cell_type": "code",
   "execution_count": 29,
   "id": "6cccc771-c9b3-4d7e-9de6-15d0c647c665",
   "metadata": {},
   "outputs": [
    {
     "name": "stdout",
     "output_type": "stream",
     "text": [
      "funcion_transformada =\n",
      "(5*s + 10)/(s^2*(s + 1)*(s + 3))\n",
      "\n"
     ]
    }
   ],
   "source": [
    "funcion_transformada = (5*(s+2)) / (s^2*(s+1)*(s+3))"
   ]
  },
  {
   "cell_type": "code",
   "execution_count": 30,
   "id": "26078701-ec1e-4f86-aa99-c2d2bf6383d6",
   "metadata": {},
   "outputs": [
    {
     "name": "stdout",
     "output_type": "stream",
     "text": [
      "fracciones_parciales =\n",
      "2.5000/(s + 1) + 0.2778/(s + 3) - 2.7778/s + 3.3333/s^2\n",
      "\n"
     ]
    }
   ],
   "source": [
    "fracciones_parciales = partfrac(funcion_transformada)"
   ]
  },
  {
   "cell_type": "code",
   "execution_count": 31,
   "id": "c48d4813-a06e-4195-86d6-5e40583bd7c7",
   "metadata": {},
   "outputs": [
    {
     "name": "stdout",
     "output_type": "stream",
     "text": [
      "ans =\n",
      "3.3333*t + 2.5000*exp(-t) + 0.2778*exp(-3*t) - 2.7778\n",
      "\n"
     ]
    }
   ],
   "source": [
    "ilaplace(fracciones_parciales)"
   ]
  }
 ],
 "metadata": {
  "kernelspec": {
   "display_name": "Matlab",
   "language": "matlab",
   "name": "matlab"
  },
  "language_info": {
   "codemirror_mode": "octave",
   "file_extension": ".m",
   "help_links": [
    {
     "text": "MetaKernel Magics",
     "url": "https://metakernel.readthedocs.io/en/latest/source/README.html"
    }
   ],
   "mimetype": "text/x-octave",
   "name": "matlab",
   "version": "0.16.11"
  }
 },
 "nbformat": 4,
 "nbformat_minor": 5
}
