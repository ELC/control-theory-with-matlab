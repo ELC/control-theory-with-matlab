{
 "cells": [
  {
   "cell_type": "markdown",
   "id": "2b90eaa3-0103-4d46-8964-82e893a54a1f",
   "metadata": {},
   "source": [
    "Introducción a la Teoría de Control\n",
    "=====\n",
    "Con Matlab\n",
    "========\n",
    "\n",
    "##### Version 0.1\n",
    "\n",
    "`Contenido Original creado por Ezequiel Leonardo Castaño`\n",
    "\n",
    "<font color='Firebrick'>Este contenido está en <b>borrador</b> y puede estar incompleto y/o sufrir modificaciones</font>\n",
    "___\n",
    "\n",
    "[![Chapters](https://img.shields.io/badge/Book-Chapters-blue?style=for-the-badge&logo=GitBook&logoColor=white)](https://elc.github.io/control)\n",
    "[![Github Repo](https://img.shields.io/badge/Github-Repo-green?style=for-the-badge&logo=github&logoColor=white)](https://github.com/ELC/control-theory-with-matlab)\n",
    "[![Questions](https://img.shields.io/badge/Github%20Issues-Questions-orange?style=for-the-badge)](https://github.com/ELC/control-theory-with-matlab/issues)"
   ]
  },
  {
   "cell_type": "code",
   "execution_count": null,
   "id": "14db7919-c9b7-4acd-8582-6d8e6c9e2237",
   "metadata": {},
   "outputs": [],
   "source": [
    "%plot inline --format=png -w 1600 -h 500"
   ]
  },
  {
   "cell_type": "code",
   "execution_count": 2,
   "id": "3c32057f-65ac-4958-89bc-7217cc9e5b9a",
   "metadata": {},
   "outputs": [
    {
     "name": "stdout",
     "output_type": "stream",
     "text": [
      "\n"
     ]
    }
   ],
   "source": [
    "format compact;"
   ]
  },
  {
   "cell_type": "markdown",
   "id": "0add7065-58fa-43e5-a794-d4254dcb0780",
   "metadata": {},
   "source": [
    "# Sistemas de Primer Orden\n",
    "\n",
    "Al utilizarse sistemas de primer orden, si la función de transferencia es **propia**, entonces su forma está definida por\n",
    "\n",
    "$$G=\\frac{a\\cdot s+b}{c\\cdot s+d}~,~a,b,c,d\\in \\mathbb{R}$$\n",
    "\n",
    "Esto es así ya que $Y(s)$no puede contener términos de grado mayor a $2$ ya que eso implicaría derivadas de grado $2$ o superior. Y si el sistema es propio, esto implica que el numerador no puede tener un grado mayor al denominador. \n",
    "\n",
    "Se tienen dos casos, cuando $G$ tiene un cero y cuando no tiene ningún cero\n",
    "\n",
    "$$G=\\frac{b}{s+\\frac{d}{c}},~~~~G=\\frac{s+\\frac{b}{a}}{s+\\frac{d}{c}}$$ \n",
    "\n",
    "La forma con un cero suele representarse como\n",
    "\n",
    "$$G~~=~~k\\frac{\\frac{s}{z}+1}{\\frac{s}{p}+1}~~=~~\\frac{k\\cdot p}{z}\\cdot \\frac{s+z}{s+p}$$\n",
    "\n",
    "Y la forma sin cero suele representarse como:\n",
    "\n",
    "\n",
    "$G=k\\frac{p}{s+p}$ o también $G=k\\frac{1}{\\frac{s}{p}+1}$\n",
    "\n",
    "\n",
    "En este caso al valor $\\frac{1}{p}$ se le conoce como **constante de tiempo} y se representa con $\\tau$ quedando\n",
    "\n",
    "$$G=k\\frac{1}{\\tau \\cdot s+1}$$"
   ]
  },
  {
   "cell_type": "markdown",
   "id": "a63fec6d-37a7-47a7-a055-d19a3290da67",
   "metadata": {},
   "source": [
    "# Polos y Ceros\n",
    "\n",
    "# Lazo Abierto y Lazo Cerrado"
   ]
  },
  {
   "cell_type": "markdown",
   "id": "f8cd7a7c-677b-4078-bbb7-edfc3f481ad2",
   "metadata": {},
   "source": [
    "## Funciones de transferencia en Matlab\n",
    "\n",
    "En matlab existen diversas formas de declarar funciones de transferencia\n",
    "\n",
    "**Declarando la variable compleja** $s$\n",
    "\n",
    "Usando la variable compleja $s$ pueden especificarse las funciones de transferencia como cociente de polinomios, como polos y ceros o una combinación de ambos"
   ]
  },
  {
   "cell_type": "code",
   "execution_count": 3,
   "id": "32a960e7-fcc8-4899-ab66-d3141e8dae84",
   "metadata": {},
   "outputs": [
    {
     "name": "stdout",
     "output_type": "stream",
     "text": [
      "\n",
      "sistema =\n",
      " \n",
      "        s^2 + 3 s + 2\n",
      "  -------------------------\n",
      "  s^3 + 4.5 s^2 + 6.5 s + 3\n",
      " \n",
      "Continuous-time transfer function.\n",
      "\n",
      "\n"
     ]
    }
   ],
   "source": [
    "s = tf(\"s\");\n",
    "sistema = ((s+2)*(s+1)) / ((s+2)*(s+1)*(s+1.5))           % Polos y Ceros"
   ]
  },
  {
   "cell_type": "code",
   "execution_count": 4,
   "id": "56dbcdde-cf45-4075-8d37-0c49964e6b3d",
   "metadata": {},
   "outputs": [
    {
     "name": "stdout",
     "output_type": "stream",
     "text": [
      "\n",
      "sistema =\n",
      " \n",
      "        s^2 + 3 s + 2\n",
      "  -------------------------\n",
      "  s^3 + 4.5 s^2 + 6.5 s + 3\n",
      " \n",
      "Continuous-time transfer function.\n",
      "\n",
      "\n"
     ]
    }
   ],
   "source": [
    "sistema = (s^2 + 3*s + 2) / (s^3 + 4.5*s^2 + 6.5*s + 3)   % Cociente de Polinomios"
   ]
  },
  {
   "cell_type": "code",
   "execution_count": 5,
   "id": "4df5de78-8f89-4d99-91fb-0f64af955526",
   "metadata": {},
   "outputs": [
    {
     "name": "stdout",
     "output_type": "stream",
     "text": [
      "\n",
      "sistema =\n",
      " \n",
      "        s^2 + 3 s + 2\n",
      "  -------------------------\n",
      "  s^3 + 4.5 s^2 + 6.5 s + 3\n",
      " \n",
      "Continuous-time transfer function.\n",
      "\n",
      "\n"
     ]
    }
   ],
   "source": [
    "sistema = (s^2 + 3*s + 2) / ((s+2)*(s+1)*(s+1.5))         % Combinación"
   ]
  },
  {
   "cell_type": "markdown",
   "id": "fdc09d56-6539-4513-a7ec-58d75876b938",
   "metadata": {},
   "source": [
    "**Especificando los coeficientes del numerador y denominador**\n",
    "\n",
    "Para utilizar sólamente los coeficientes del numerador y el denominador, se utiliza la función **``tf``**."
   ]
  },
  {
   "cell_type": "code",
   "execution_count": 6,
   "id": "8bf93d6c-dc2d-435e-86d8-1c79d20794f4",
   "metadata": {},
   "outputs": [
    {
     "name": "stdout",
     "output_type": "stream",
     "text": [
      "\n",
      "sistema =\n",
      " \n",
      "        s^2 + 3 s + 2\n",
      "  -------------------------\n",
      "  s^3 + 4.5 s^2 + 6.5 s + 3\n",
      " \n",
      "Continuous-time transfer function.\n",
      "\n",
      "\n"
     ]
    }
   ],
   "source": [
    "sistema = tf([1 3 2], [1 4.5 6.5 3])"
   ]
  },
  {
   "cell_type": "markdown",
   "id": "8162d90c-e1b5-4b11-8311-f38bea7d742a",
   "metadata": {},
   "source": [
    "**Especificando los polos y ceros**\n",
    "\n",
    "Para definir la función de transferencia con polos y ceros, se utiliza la función **``zpk``**, que además toma un tercer parámetro que es la ganancia"
   ]
  },
  {
   "cell_type": "code",
   "execution_count": 7,
   "id": "88ebc666-8889-43cb-94b6-a457f338bbf7",
   "metadata": {},
   "outputs": [
    {
     "name": "stdout",
     "output_type": "stream",
     "text": [
      "\n",
      "sistema =\n",
      " \n",
      "      (s+2) (s+1)\n",
      "  -------------------\n",
      "  (s+2) (s+1.5) (s+1)\n",
      " \n",
      "Continuous-time zero/pole/gain model.\n",
      "\n",
      "\n"
     ]
    }
   ],
   "source": [
    "sistema = zpk([-2; -1], [-2, -1, -1.5], 1)"
   ]
  },
  {
   "cell_type": "markdown",
   "id": "ed155bdd-8ea6-49c7-b404-cb9b52636a79",
   "metadata": {},
   "source": [
    "## Ceros y polos de una función de transferencia\n",
    "\n",
    "Independientemente de la forma en la que la función de transferencia haya sido creada, es posible obtener sus ceros y polos con las funciones **``zero``** y **``pole``**"
   ]
  },
  {
   "cell_type": "code",
   "execution_count": 8,
   "id": "d7ac5b8f-f3e4-42c9-b45f-5e5b7569fc89",
   "metadata": {},
   "outputs": [
    {
     "name": "stdout",
     "output_type": "stream",
     "text": [
      "ceros =\n",
      "    -2\n",
      "    -1\n",
      "polos =\n",
      "   -2.0000\n",
      "   -1.0000\n",
      "   -1.5000\n",
      "\n"
     ]
    }
   ],
   "source": [
    "ceros = zero(sistema);\n",
    "polos = pole(sistema);\n",
    "ceros, polos"
   ]
  },
  {
   "cell_type": "markdown",
   "id": "46f961e4-03ec-4852-9a68-99f5e81af413",
   "metadata": {},
   "source": [
    "## Convirtiendo de un formato a otro\n",
    "\n",
    "De ceros y polos a coeficientes usando **``zp2tf``**"
   ]
  },
  {
   "cell_type": "code",
   "execution_count": 9,
   "id": "51d89acb-d2c8-4e7a-a1ce-399874148b80",
   "metadata": {},
   "outputs": [
    {
     "name": "stdout",
     "output_type": "stream",
     "text": [
      "\n",
      "sistema =\n",
      " \n",
      "      (s+2) (s+1)\n",
      "  -------------------\n",
      "  (s+2) (s+1.5) (s+1)\n",
      " \n",
      "Continuous-time zero/pole/gain model.\n",
      "\n",
      "\n"
     ]
    }
   ],
   "source": [
    "ceros = [-2; -1];\n",
    "polos = [-2, -1, -1.5];\n",
    "sistema = zpk(ceros, polos, 1)"
   ]
  },
  {
   "cell_type": "code",
   "execution_count": 10,
   "id": "b327f572-66f0-4d54-877a-9b56901a53b1",
   "metadata": {},
   "outputs": [
    {
     "name": "stdout",
     "output_type": "stream",
     "text": [
      "\n",
      "sistema =\n",
      " \n",
      "        s^2 + 3 s + 2\n",
      "  -------------------------\n",
      "  s^3 + 4.5 s^2 + 6.5 s + 3\n",
      " \n",
      "Continuous-time transfer function.\n",
      "\n",
      "\n"
     ]
    }
   ],
   "source": [
    "[numerador, denominador] = zp2tf(ceros, polos, 1);\n",
    "sistema = tf(numerador, denominador)"
   ]
  },
  {
   "cell_type": "markdown",
   "id": "e527af40-1f17-4603-9da3-185c2f1c7acf",
   "metadata": {},
   "source": [
    "De cociente de polinomios a polos y ceros **``tf2zp``**"
   ]
  },
  {
   "cell_type": "code",
   "execution_count": 11,
   "id": "be1af005-f1e7-43bb-87e9-7f09f9fc4241",
   "metadata": {},
   "outputs": [
    {
     "name": "stdout",
     "output_type": "stream",
     "text": [
      "\n",
      "sistema =\n",
      " \n",
      "        s^2 + 3 s + 2\n",
      "  -------------------------\n",
      "  s^3 + 4.5 s^2 + 6.5 s + 3\n",
      " \n",
      "Continuous-time transfer function.\n",
      "\n",
      "\n"
     ]
    }
   ],
   "source": [
    "numerador = [1 3 2];\n",
    "denominador = [1 4.5 6.5 3];\n",
    "sistema = tf(numerador, denominador)"
   ]
  },
  {
   "cell_type": "code",
   "execution_count": 12,
   "id": "3b2bb011-b86e-4b00-b3b8-8d008ba87d8f",
   "metadata": {},
   "outputs": [
    {
     "name": "stdout",
     "output_type": "stream",
     "text": [
      "\n",
      "sistema =\n",
      " \n",
      "      (s+2) (s+1)\n",
      "  -------------------\n",
      "  (s+2) (s+1.5) (s+1)\n",
      " \n",
      "Continuous-time zero/pole/gain model.\n",
      "\n",
      "\n"
     ]
    }
   ],
   "source": [
    "[polos, ceros, ganancia] = tf2zp(numerador, denominador);\n",
    "sistema = zpk(polos, ceros, ganancia)"
   ]
  },
  {
   "cell_type": "markdown",
   "id": "98e3880b-7659-4b66-866f-7edede8d1073",
   "metadata": {},
   "source": [
    "## Respuesta del sistema\n",
    "\n",
    "La respuesta del sistema $y(t)$está totalmente definida dada la **función de transferencia** $G$ y una entrada $x(t)$\n",
    "\n",
    "A continuación se muestra como un sistema de primer orden responde a diferentes tipos de entrada\n",
    "\n",
    "### Definiendo el sistema\n",
    "\n",
    "Primero se define la variable compleja $s$ y un sistema de primer orden sin ceros y con un polo en $p$"
   ]
  },
  {
   "cell_type": "code",
   "execution_count": 13,
   "id": "aeca034a-4ade-49d3-acaa-1ad6563cf97e",
   "metadata": {},
   "outputs": [
    {
     "name": "stdout",
     "output_type": "stream",
     "text": [
      "\n"
     ]
    }
   ],
   "source": [
    "s = tf(\"s\");\n",
    "\n",
    "tiempo = 0:0.01:2;\n",
    "tau =0.2;\n",
    "primer_orden = 1 / (tau*s + 1);"
   ]
  },
  {
   "cell_type": "markdown",
   "id": "06ebff68-f9dd-4449-92aa-667537582469",
   "metadata": {},
   "source": [
    "### Entrada Impulso"
   ]
  },
  {
   "cell_type": "code",
   "execution_count": 14,
   "id": "1b69e95a-37ee-42cd-8b95-d12ec0a7dac6",
   "metadata": {},
   "outputs": [
    {
     "name": "stdout",
     "output_type": "stream",
     "text": [
      "\n"
     ]
    },
    {
     "data": {
      "image/png": "[encoded data removed]",
      "text/plain": [
       "<IPython.core.display.Image object>"
      ]
     },
     "metadata": {},
     "output_type": "display_data"
    }
   ],
   "source": [
    "respuesta = impulse(primer_orden, tiempo);\n",
    "\n",
    "figure;\n",
    "\n",
    "ax = subplot(2,1,1);\n",
    "hold(ax, 'on')\n",
    "\n",
    "plot(ax, tiempo, transpose(respuesta))\n",
    "\n",
    "legend('Respuesta')\n",
    "title(\"Respuesta del Sistema\")\n",
    "grid on\n",
    "\n",
    "ax = subplot(2,1,2);\n",
    "hold(ax, 'on')\n",
    "\n",
    "plot(tiempo, respuesta)\n",
    "\n",
    "title(\"Error\")\n",
    "grid on"
   ]
  },
  {
   "cell_type": "markdown",
   "id": "e10ed180-c2b9-4244-87e6-30c65a8044da",
   "metadata": {},
   "source": [
    "### Entrada Escalón"
   ]
  },
  {
   "cell_type": "code",
   "execution_count": 15,
   "id": "3117c1c7-043b-4db3-84b2-5485115eb3b2",
   "metadata": {},
   "outputs": [
    {
     "name": "stdout",
     "output_type": "stream",
     "text": [
      "\n"
     ]
    },
    {
     "data": {
      "image/png": "[encoded data removed]",
      "text/plain": [
       "<IPython.core.display.Image object>"
      ]
     },
     "metadata": {},
     "output_type": "display_data"
    }
   ],
   "source": [
    "valor_esperado = 1;\n",
    "respuesta = step(valor_esperado * primer_orden, tiempo);\n",
    "\n",
    "figure;\n",
    "\n",
    "ax = subplot(2,1,1);\n",
    "hold(ax, 'on')\n",
    "\n",
    "plot(ax, tiempo, transpose(respuesta))\n",
    "\n",
    "yline(ax, valor_esperado, \"--k\")\n",
    "legend('Respuesta', 'Valor Esperado')\n",
    "title(\"Respuesta del Sistema\")\n",
    "grid on\n",
    "\n",
    "ax = subplot(2,1,2);\n",
    "hold(ax, 'on')\n",
    "\n",
    "plot(tiempo, valor_esperado - respuesta)\n",
    "\n",
    "yline(0, \"--k\")\n",
    "title(\"Error\")\n",
    "grid on"
   ]
  },
  {
   "cell_type": "markdown",
   "id": "4da99dec-3780-4ea2-9282-a2c46f6a7b90",
   "metadata": {},
   "source": [
    "### Entrada Rampa"
   ]
  },
  {
   "cell_type": "code",
   "execution_count": 16,
   "id": "6f47bdb7-45ea-4f7c-acc6-593fe26374c2",
   "metadata": {},
   "outputs": [
    {
     "name": "stdout",
     "output_type": "stream",
     "text": [
      "\n"
     ]
    },
    {
     "data": {
      "image/png": "[encoded data removed]",
      "text/plain": [
       "<IPython.core.display.Image object>"
      ]
     },
     "metadata": {},
     "output_type": "display_data"
    }
   ],
   "source": [
    "valor_esperado = tiempo;\n",
    "respuesta = step(primer_orden / s, tiempo);\n",
    "respuesta = transpose(respuesta);\n",
    "\n",
    "figure;\n",
    "\n",
    "ax = subplot(2,1,1);\n",
    "hold(ax, 'on')\n",
    "\n",
    "plot(ax, tiempo, respuesta)\n",
    "plot(ax, tiempo, valor_esperado, \"--k\")\n",
    "legend('Respuesta', 'Valor Esperado')\n",
    "grid on\n",
    "title(\"Respuesta del Sistema\")\n",
    "\n",
    "ax = subplot(2,1,2);\n",
    "hold(ax, 'on')\n",
    "error = valor_esperado - respuesta;\n",
    "plot(tiempo, error)\n",
    "yline(error(end), \"--k\")\n",
    "yline(0, \"--k\")\n",
    "title(\"Error\")\n",
    "grid on"
   ]
  },
  {
   "cell_type": "markdown",
   "id": "2f695c1d-2003-44e7-b60e-65da8735f78d",
   "metadata": {},
   "source": [
    "### Entrada Parabola\n",
    "\n",
    "En este caso, si la entrada es una parábola, se puede ver como el error crece a infinito"
   ]
  },
  {
   "cell_type": "code",
   "execution_count": 17,
   "id": "b56b229a-a4bd-4443-8974-f49e3114bcfc",
   "metadata": {},
   "outputs": [
    {
     "name": "stdout",
     "output_type": "stream",
     "text": [
      "\n"
     ]
    },
    {
     "data": {
      "image/png": "[encoded data removed]",
      "text/plain": [
       "<IPython.core.display.Image object>"
      ]
     },
     "metadata": {},
     "output_type": "display_data"
    }
   ],
   "source": [
    "valor_esperado = tiempo .* tiempo;\n",
    "respuesta = step(primer_orden / s^2, tiempo);\n",
    "respuesta = transpose(respuesta);\n",
    "\n",
    "figure;\n",
    "\n",
    "ax = subplot(2,1,1);\n",
    "hold(ax, 'on')\n",
    "\n",
    "plot(ax, tiempo, respuesta)\n",
    "plot(ax, tiempo, valor_esperado, \"--k\")\n",
    "legend('Respuesta', 'Valor Esperado')\n",
    "title(\"Respuesta del sistema\")\n",
    "grid on\n",
    "\n",
    "ax = subplot(2,1,2);\n",
    "hold(ax, 'on')\n",
    "plot(tiempo, valor_esperado - respuesta)\n",
    "yline(0, \"--k\")\n",
    "title(\"Error\")\n",
    "grid on"
   ]
  }
 ],
 "metadata": {
  "kernelspec": {
   "display_name": "Matlab",
   "language": "matlab",
   "name": "matlab"
  },
  "language_info": {
   "codemirror_mode": "octave",
   "file_extension": ".m",
   "help_links": [
    {
     "text": "MetaKernel Magics",
     "url": "https://metakernel.readthedocs.io/en/latest/source/README.html"
    }
   ],
   "mimetype": "text/x-octave",
   "name": "matlab",
   "version": "0.16.11"
  }
 },
 "nbformat": 4,
 "nbformat_minor": 5
}
